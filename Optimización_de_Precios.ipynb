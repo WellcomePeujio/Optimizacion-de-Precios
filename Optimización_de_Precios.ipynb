{
  "nbformat": 4,
  "nbformat_minor": 0,
  "metadata": {
    "colab": {
      "private_outputs": true,
      "provenance": [],
      "authorship_tag": "ABX9TyObZS1m+RbNqgXgdg19uI95",
      "include_colab_link": true
    },
    "kernelspec": {
      "name": "python3",
      "display_name": "Python 3"
    },
    "language_info": {
      "name": "python"
    }
  },
  "cells": [
    {
      "cell_type": "markdown",
      "metadata": {
        "id": "view-in-github",
        "colab_type": "text"
      },
      "source": [
        "<a href=\"https://colab.research.google.com/github/WellcomePeujio/Optimizacion-de-Precios/blob/main/Optimizaci%C3%B3n_de_Precios.ipynb\" target=\"_parent\"><img src=\"https://colab.research.google.com/assets/colab-badge.svg\" alt=\"Open In Colab\"/></a>"
      ]
    },
    {
      "cell_type": "markdown",
      "source": [
        "# Optimización de Precios\n",
        "\n",
        "## Problema\n",
        "\n",
        "Una empresa vende un producto y ha determinado que los ingresos están dados por la función:\n",
        "\n",
        "$$\n",
        "I(p) = 100p - 5p^2\n",
        "$$\n",
        "\n",
        "donde \\( p \\) es el precio del producto.\n",
        "\n",
        "## Preguntas:\n",
        "\n",
        "1. **¿Cuál es el precio que maximiza los ingresos?**\n",
        "2. **¿Cuál es el ingreso máximo que puede obtener la empresa?**\n",
        "\n",
        "\n"
      ],
      "metadata": {
        "id": "e5vGFLM-ieo0"
      }
    },
    {
      "cell_type": "markdown",
      "source": [
        "# Resolución Matemática: Optimización de Precios\n",
        "\n",
        "## Datos del problema:\n",
        "\n",
        "La función de ingresos de la empresa está dada por:\n",
        "\n",
        "$$\n",
        "I(p) = 100p - 5p^2\n",
        "$$\n",
        "\n",
        "donde \\( p \\) es el precio del producto.\n",
        "\n",
        "### Pregunta 1: ¿Cuál es el precio que maximiza los ingresos?\n",
        "\n",
        "Para encontrar el precio que maximiza los ingresos, derivamos la función \\$( I(p) \\$) respecto a \\$( p \\$) y luego igualamos la derivada a cero.\n",
        "\n",
        "### Paso 1: Derivada de la función de ingresos\n",
        "\n",
        "La derivada de \\$( I(p) \\$) respecto a \\$( p \\$) es:\n",
        "\n",
        "$$\n",
        "I'(p) = \\frac{d}{dp}(100p - 5p^2) = 100 - 10p\n",
        "$$\n",
        "\n",
        "### Paso 2: Igualamos la derivada a cero para encontrar el punto crítico\n",
        "\n",
        "$$\n",
        "100 - 10p = 0\n",
        "$$\n",
        "\n",
        "Resolviendo para \\( p \\):\n",
        "\n",
        "$$\n",
        "p = \\frac{100}{10} = 10\n",
        "$$\n",
        "\n",
        "El precio que maximiza los ingresos es **$10**.\n",
        "\n",
        "### Pregunta 2: ¿Cuál es el ingreso máximo que puede obtener la empresa?\n",
        "\n",
        "Para calcular el ingreso máximo, sustituimos \\$( p = 10 \\$) en la función de ingresos \\$( I(p) \\$).\n",
        "\n",
        "### Paso 3: Sustitución del precio en la función de ingresos\n",
        "\n",
        "Sustituyendo \\$( p = 10 \\$):\n",
        "\n",
        "$$\n",
        "I(10) = 100(10) - 5(10)^2\n",
        "$$\n",
        "\n",
        "$$\n",
        "I(10) = 1000 - 500 = 500\n",
        "$$\n",
        "\n",
        "### Resultado:\n",
        "\n",
        "El ingreso máximo que puede obtener la empresa es **500 dólares**.\n",
        "\n",
        "## Resumen:\n",
        "\n",
        "- **Precio que maximiza los ingresos**: **10 dólares**\n",
        "- **Ingreso máximo**: **500 dólares**\n"
      ],
      "metadata": {
        "id": "x16jNfLoc_S0"
      }
    },
    {
      "cell_type": "code",
      "source": [
        "import numpy as np\n",
        "import matplotlib.pyplot as plt\n",
        "\n",
        "# Función de ingresos\n",
        "def ingresos(p):\n",
        "    return 100 * p - 5 * p**2\n",
        "\n",
        "# Precio que maximiza los ingresos\n",
        "precio_optimo = 100 / 10\n",
        "\n",
        "# Ingreso máximo\n",
        "ingreso_maximo = ingresos(precio_optimo)\n",
        "\n",
        "# Rango de precios para la gráfica\n",
        "precios = np.linspace(0, 20, 100)\n",
        "ingresos_totales = ingresos(precios)\n",
        "\n",
        "# Mostrar resultados\n",
        "print(f\"El precio que maximiza los ingresos es: ${precio_optimo:.2f}\")\n",
        "print(f\"El ingreso máximo es: ${ingreso_maximo:.2f}\")\n",
        "\n",
        "# Crear la gráfica\n",
        "plt.figure(figsize=(10, 6))\n",
        "plt.plot(precios, ingresos_totales, label='Ingresos Totales', color='blue', linewidth=2)\n",
        "plt.axvline(x=precio_optimo, color='green', linestyle='--', label=f'Precio óptimo: ${precio_optimo:.2f}')\n",
        "plt.axhline(y=ingreso_maximo, color='red', linestyle='--', label=f'Ingreso máximo: ${ingreso_maximo:.2f}')\n",
        "plt.title('Ingresos en función del precio')\n",
        "plt.xlabel('Precio ($)')\n",
        "plt.ylabel('Ingresos ($)')\n",
        "plt.legend()\n",
        "plt.grid(True)\n",
        "\n",
        "# Mostrar la gráfica\n",
        "plt.show()"
      ],
      "metadata": {
        "id": "e8CfmVCfdwrm"
      },
      "execution_count": null,
      "outputs": []
    }
  ]
}